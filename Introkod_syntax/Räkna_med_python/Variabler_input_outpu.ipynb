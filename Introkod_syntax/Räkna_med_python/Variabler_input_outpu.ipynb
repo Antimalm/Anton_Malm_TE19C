{
 "metadata": {
  "language_info": {
   "codemirror_mode": {
    "name": "ipython",
    "version": 3
   },
   "file_extension": ".py",
   "mimetype": "text/x-python",
   "name": "python",
   "nbconvert_exporter": "python",
   "pygments_lexer": "ipython3",
   "version": "3.8.5-final"
  },
  "orig_nbformat": 2,
  "kernelspec": {
   "name": "python38532bitcf030b6e12804344ad2bd973e8ecec8b",
   "display_name": "Python 3.8.5 32-bit"
  }
 },
 "nbformat": 4,
 "nbformat_minor": 2,
 "cells": [
  {
   "cell_type": "code",
   "execution_count": 7,
   "metadata": {
    "tags": []
   },
   "outputs": [
    {
     "output_type": "stream",
     "name": "stdout",
     "text": "Din tyngdkraft är 589.2N\nDin tyngdkraft är 589.2 N\n"
    }
   ],
   "source": [
    "#skapar en variabel g och tilldelar det värdet 9.82\n",
    "\n",
    "\n",
    "g = 9.82\n",
    "\n",
    "#input ger oss en sträng, float omvandlar den till flyttal. \n",
    "m= float(input(\"Hur mycket väger du? \"))\n",
    "\n",
    "F = m*g\n",
    "\n",
    "print(f\"Din tyngdkraft är {F}N\")\n",
    "print(\"Din tyngdkraft är\",F, \"N\")"
   ]
  },
  {
   "cell_type": "code",
   "execution_count": 16,
   "metadata": {},
   "outputs": [
    {
     "output_type": "error",
     "ename": "SyntaxError",
     "evalue": "invalid syntax (<ipython-input-16-78e33fc4a4c6>, line 4)",
     "traceback": [
      "\u001b[1;36m  File \u001b[1;32m\"<ipython-input-16-78e33fc4a4c6>\"\u001b[1;36m, line \u001b[1;32m4\u001b[0m\n\u001b[1;33m    procent = \"decimaltal\"*100\u001b[0m\n\u001b[1;37m    ^\u001b[0m\n\u001b[1;31mSyntaxError\u001b[0m\u001b[1;31m:\u001b[0m invalid syntax\n"
     ]
    }
   ],
   "source": [
    "#Procent\n",
    "\n",
    "decimaltal = float(input(\"Ange ett decialtal:\")\n",
    "procent = decimaltal*100\n",
    "print(f\"{decimaltal} = {procent:.0f}%\")\n",
    "\n",
    "print(demialtal, \"=\",round(procent),\"%\")"
   ]
  },
  {
   "cell_type": "code",
   "execution_count": null,
   "metadata": {},
   "outputs": [],
   "source": [
    "print(\"Hej\")"
   ]
  },
  {
   "cell_type": "code",
   "execution_count": null,
   "metadata": {},
   "outputs": [],
   "source": []
  }
 ]
}