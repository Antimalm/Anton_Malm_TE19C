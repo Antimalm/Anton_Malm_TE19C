{
 "metadata": {
  "language_info": {
   "codemirror_mode": {
    "name": "ipython",
    "version": 3
   },
   "file_extension": ".py",
   "mimetype": "text/x-python",
   "name": "python",
   "nbconvert_exporter": "python",
   "pygments_lexer": "ipython3",
   "version": "3.8.5-final"
  },
  "orig_nbformat": 2,
  "kernelspec": {
   "name": "python38532bitcf030b6e12804344ad2bd973e8ecec8b",
   "display_name": "Python 3.8.5 32-bit"
  }
 },
 "nbformat": 4,
 "nbformat_minor": 2,
 "cells": [
  {
   "cell_type": "code",
   "execution_count": 10,
   "metadata": {
    "tags": []
   },
   "outputs": [
    {
     "output_type": "stream",
     "name": "stdout",
     "text": "5\n"
    }
   ],
   "source": [
    "#Uppgift 1\n",
    "\n",
    "print (12-7)"
   ]
  },
  {
   "cell_type": "code",
   "execution_count": 13,
   "metadata": {
    "tags": []
   },
   "outputs": [
    {
     "output_type": "stream",
     "name": "stdout",
     "text": "17.0\n"
    }
   ],
   "source": [
    "#Uppgift 1b\n",
    "\n",
    "print(24/3+9)\n"
   ]
  },
  {
   "cell_type": "code",
   "execution_count": 14,
   "metadata": {
    "tags": []
   },
   "outputs": [
    {
     "output_type": "stream",
     "name": "stdout",
     "text": "127\n"
    }
   ],
   "source": [
    "#uppgit 1c\n",
    "\n",
    "print(3*43-2)"
   ]
  },
  {
   "cell_type": "code",
   "execution_count": 18,
   "metadata": {
    "tags": []
   },
   "outputs": [
    {
     "output_type": "stream",
     "name": "stdout",
     "text": "Hej Hur mår du?\n"
    }
   ],
   "source": [
    "#uppgift 2\n",
    "\n",
    "print(\"Hej Hur mår du?\")"
   ]
  },
  {
   "cell_type": "code",
   "execution_count": 21,
   "metadata": {
    "tags": []
   },
   "outputs": [
    {
     "output_type": "stream",
     "name": "stdout",
     "text": "Två läsk kostar 30kr\nTvå läsk och en hamburgare kostar 59kr\nTre läsk, tre hamburgare och tre pommes frites kostar 168kr\n"
    }
   ],
   "source": [
    "#uppgift 3\n",
    "\n",
    "print(\"Två läsk kostar 30kr\")\n",
    "\n",
    "print(\"Två läsk och en hamburgare kostar 59kr\")\n",
    "\n",
    "print(\"Tre läsk, tre hamburgare och tre pommes frites kostar 168kr\")"
   ]
  },
  {
   "cell_type": "code",
   "execution_count": 22,
   "metadata": {
    "tags": []
   },
   "outputs": [
    {
     "output_type": "stream",
     "name": "stdout",
     "text": "9863\n"
    }
   ],
   "source": [
    "#uppgift 4\n",
    "\n",
    "print(219*45+8)"
   ]
  },
  {
   "cell_type": "code",
   "execution_count": 24,
   "metadata": {
    "tags": []
   },
   "outputs": [
    {
     "output_type": "stream",
     "name": "stdout",
     "text": "Om du kör med hastigheten 70km/h i 1,5 timmar, så hinner du\n105.0\nkm.\n"
    }
   ],
   "source": [
    "#uppgift 5\n",
    "\n",
    "print(\"Om du kör med hastigheten 70km/h i 1,5 timmar, så hinner du\"\n",
    ")\n",
    "print(70*1.5) \n",
    "print(\"km.\") "
   ]
  },
  {
   "cell_type": "code",
   "execution_count": 26,
   "metadata": {
    "tags": []
   },
   "outputs": [
    {
     "output_type": "stream",
     "name": "stdout",
     "text": "hejhej\nhejhejhejhejhejhejhejhej\n"
    }
   ],
   "source": [
    "#uppgift 6\n",
    "\n",
    "print(\"hej\" + \"hej\")\n",
    "print(8 * \"hej\")"
   ]
  },
  {
   "cell_type": "code",
   "execution_count": null,
   "metadata": {},
   "outputs": [],
   "source": [
    "#uppgift 7\n",
    "1=A\n",
    "2=D\n",
    "3=C\n",
    "4=B"
   ]
  },
  {
   "cell_type": "code",
   "execution_count": 28,
   "metadata": {
    "tags": []
   },
   "outputs": [
    {
     "output_type": "stream",
     "name": "stdout",
     "text": "23\n-16\n"
    }
   ],
   "source": [
    "#uppgift 8\n",
    "print(2*10+3)\n",
    "print(40-56)"
   ]
  },
  {
   "cell_type": "code",
   "execution_count": 31,
   "metadata": {
    "tags": []
   },
   "outputs": [
    {
     "output_type": "stream",
     "name": "stdout",
     "text": "**betyder upphöjt till 2\n"
    }
   ],
   "source": [
    "#uppgift 9\n",
    "print(\"**betyder upphöjt till 2\")"
   ]
  },
  {
   "cell_type": "code",
   "execution_count": 32,
   "metadata": {
    "tags": []
   },
   "outputs": [
    {
     "output_type": "stream",
     "name": "stdout",
     "text": "4.5 och 4\n"
    }
   ],
   "source": [
    "#uppgift 10 \n",
    "print(9/2, \"och\", 9//2)"
   ]
  },
  {
   "cell_type": "code",
   "execution_count": null,
   "metadata": {},
   "outputs": [],
   "source": []
  }
 ]
}